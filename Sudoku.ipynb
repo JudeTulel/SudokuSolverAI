{
 "cells": [
  {
   "attachments": {},
   "cell_type": "markdown",
   "metadata": {},
   "source": [
    "# Sudoku Solver\n",
    "## What is Sudoku?\n",
    " A sudoku puzzle consists of a 9x9 grid where each cell contains an integer 1-9.\n",
    " The 9x9 grid is divided into 9x9 subgrids\n",
    "The solution to the puzzle must satisfy the following conditions.\\\n",
    "    **>Each row contains digits 1-9 without repetition**\\\n",
    "    **>Each column contains digits 1-9 without repetition**\\\n",
    "    **>Each subgrid contains digits 1-9 without repetition**\\\n",
    "The puzzle is given with some of the cells empty.\n",
    "This python project aims to create an AI algorithm to solve sudoku."
   ]
  },
  {
   "attachments": {},
   "cell_type": "markdown",
   "metadata": {},
   "source": [
    "## Approaching the Problem\n",
    "The complexity of a Sudoku puzzle depends with the number ofempty cells in the grid\\\n",
    "If 41 of 81 cells are empty then there are 941 possible combininations that could be the solution.\n",
    "A bruteforce algorithm will be feasable.\n"
   ]
  },
  {
   "attachments": {},
   "cell_type": "markdown",
   "metadata": {},
   "source": [
    "## The Dataset\n",
    "The Dataset used in this project was downloaded from **Kaggle**\\\n",
    "\n",
    "Kaggle has a made publicly available a dataset of 9 million Sudoku puzzles and their solutions.\n",
    "\n"
   ]
  },
  {
   "attachments": {},
   "cell_type": "markdown",
   "metadata": {},
   "source": [
    "### importing the required libs and the dataset"
   ]
  },
  {
   "cell_type": "code",
   "execution_count": 12,
   "metadata": {},
   "outputs": [],
   "source": [
    "#importing the reqired libraries and The Dataset\n",
    "\n",
    "import numpy as np\n",
    "import pandas as pd\n",
    "import time\n",
    "import itertools\n",
    "\n",
    "#using pandas too import data set\n",
    "sudokuDf = pd.DataFrame(pd.read_csv('sudoku.csv',nrows=10**2))"
   ]
  },
  {
   "cell_type": "code",
   "execution_count": 13,
   "metadata": {},
   "outputs": [
    {
     "data": {
      "text/html": [
       "<div>\n",
       "<style scoped>\n",
       "    .dataframe tbody tr th:only-of-type {\n",
       "        vertical-align: middle;\n",
       "    }\n",
       "\n",
       "    .dataframe tbody tr th {\n",
       "        vertical-align: top;\n",
       "    }\n",
       "\n",
       "    .dataframe thead th {\n",
       "        text-align: right;\n",
       "    }\n",
       "</style>\n",
       "<table border=\"1\" class=\"dataframe\">\n",
       "  <thead>\n",
       "    <tr style=\"text-align: right;\">\n",
       "      <th></th>\n",
       "      <th>puzzle</th>\n",
       "      <th>solution</th>\n",
       "    </tr>\n",
       "  </thead>\n",
       "  <tbody>\n",
       "    <tr>\n",
       "      <th>70</th>\n",
       "      <td>0728340690450200080000750200140800008670400032...</td>\n",
       "      <td>1728345699451267386389754213147896528675421932...</td>\n",
       "    </tr>\n",
       "    <tr>\n",
       "      <th>30</th>\n",
       "      <td>0013000020790000000206709030009673007500010490...</td>\n",
       "      <td>8613594723791248565246789134129673857532816499...</td>\n",
       "    </tr>\n",
       "    <tr>\n",
       "      <th>7</th>\n",
       "      <td>8001349020410960800050700100086050004063100090...</td>\n",
       "      <td>8671349522415967833958726149786254314563182791...</td>\n",
       "    </tr>\n",
       "    <tr>\n",
       "      <th>37</th>\n",
       "      <td>0800000900905020000030014080070906300000000016...</td>\n",
       "      <td>5864371921945823677239614582471986358396547216...</td>\n",
       "    </tr>\n",
       "    <tr>\n",
       "      <th>15</th>\n",
       "      <td>0053461700000000500008000095029307410700000030...</td>\n",
       "      <td>9253461787862913543418752695629387411745629838...</td>\n",
       "    </tr>\n",
       "  </tbody>\n",
       "</table>\n",
       "</div>"
      ],
      "text/plain": [
       "                                               puzzle  \\\n",
       "70  0728340690450200080000750200140800008670400032...   \n",
       "30  0013000020790000000206709030009673007500010490...   \n",
       "7   8001349020410960800050700100086050004063100090...   \n",
       "37  0800000900905020000030014080070906300000000016...   \n",
       "15  0053461700000000500008000095029307410700000030...   \n",
       "\n",
       "                                             solution  \n",
       "70  1728345699451267386389754213147896528675421932...  \n",
       "30  8613594723791248565246789134129673857532816499...  \n",
       "7   8671349522415967833958726149786254314563182791...  \n",
       "37  5864371921945823677239614582471986358396547216...  \n",
       "15  9253461787862913543418752695629387411745629838...  "
      ]
     },
     "execution_count": 13,
     "metadata": {},
     "output_type": "execute_result"
    }
   ],
   "source": [
    "sudokuDf.sample(5)"
   ]
  },
  {
   "attachments": {},
   "cell_type": "markdown",
   "metadata": {},
   "source": [
    "#### Representing the Data in the standard sudoku 9x9 grid\n",
    "\n",
    "As we have seen from the sample the puzzle and solutions are represented by a string of 81 digits so we have to reshape them into a standard sudoku puzzle"
   ]
  },
  {
   "cell_type": "code",
   "execution_count": 14,
   "metadata": {},
   "outputs": [],
   "source": [
    "def shape(sudokuDf):\n",
    "    for n in range(sudokuDf.shape[0]):\n",
    "        #shaping the puzzle part\n",
    "        sudokuDf.iloc[n,0] = np.reshape(list(sudokuDf.puzzle.values[n]),(9,9)).astype(int)\n",
    "        #shaping the solution part\n",
    "        sudokuDf.iloc[n,1] = np.reshape(list(sudokuDf.solution.values[n]),(9,9)).astype(int)\n",
    "    return sudokuDf"
   ]
  },
  {
   "attachments": {},
   "cell_type": "markdown",
   "metadata": {},
   "source": [
    "**How the first Puzzle looks**"
   ]
  },
  {
   "cell_type": "code",
   "execution_count": 15,
   "metadata": {},
   "outputs": [
    {
     "data": {
      "text/plain": [
       "array([[3, 0, 1, 0, 8, 6, 5, 0, 4],\n",
       "       [0, 4, 6, 5, 2, 1, 0, 7, 0],\n",
       "       [5, 0, 0, 0, 0, 0, 0, 0, 1],\n",
       "       [4, 0, 0, 8, 0, 0, 0, 0, 2],\n",
       "       [0, 8, 0, 3, 4, 7, 9, 0, 0],\n",
       "       [0, 0, 9, 0, 5, 0, 0, 3, 8],\n",
       "       [0, 0, 4, 0, 9, 0, 2, 0, 0],\n",
       "       [0, 0, 8, 7, 3, 4, 0, 9, 0],\n",
       "       [0, 0, 7, 2, 0, 8, 1, 0, 3]])"
      ]
     },
     "execution_count": 15,
     "metadata": {},
     "output_type": "execute_result"
    }
   ],
   "source": [
    "sudokuDf = shape(sudokuDf)\n",
    "sudokuDf.iloc[1,0]"
   ]
  },
  {
   "attachments": {},
   "cell_type": "markdown",
   "metadata": {},
   "source": [
    "**This is its Solution**"
   ]
  },
  {
   "cell_type": "code",
   "execution_count": 16,
   "metadata": {},
   "outputs": [
    {
     "data": {
      "text/plain": [
       "array([[3, 7, 1, 9, 8, 6, 5, 2, 4],\n",
       "       [8, 4, 6, 5, 2, 1, 3, 7, 9],\n",
       "       [5, 9, 2, 4, 7, 3, 8, 6, 1],\n",
       "       [4, 6, 3, 8, 1, 9, 7, 5, 2],\n",
       "       [2, 8, 5, 3, 4, 7, 9, 1, 6],\n",
       "       [7, 1, 9, 6, 5, 2, 4, 3, 8],\n",
       "       [6, 3, 4, 1, 9, 5, 2, 8, 7],\n",
       "       [1, 2, 8, 7, 3, 4, 6, 9, 5],\n",
       "       [9, 5, 7, 2, 6, 8, 1, 4, 3]])"
      ]
     },
     "execution_count": 16,
     "metadata": {},
     "output_type": "execute_result"
    }
   ],
   "source": [
    "sudokuDf.iloc[1,1]"
   ]
  },
  {
   "attachments": {},
   "cell_type": "markdown",
   "metadata": {},
   "source": [
    "## Implementing checker for solution\n",
    "This will be a function to check if the solution set is in line with the aforementioned conditions for a solution."
   ]
  },
  {
   "cell_type": "code",
   "execution_count": 17,
   "metadata": {},
   "outputs": [],
   "source": [
    "def checkPuzzle(sudokuPuzzle):\n",
    "    checkRow = all([all([x in sudokuPuzzle[nrow,:]for nrow in range(9) for x in range(1,10) ])])\n",
    "    checkColumn = all([all([x in sudokuPuzzle[ncol,:]for ncol in range(9) for x in range(1,10) ])])\n",
    "    checkUpperLeft = all([x in sudokuPuzzle[0:3,0:3] for x in range(1,10)])\n",
    "    checkUpperMid = all([x in sudokuPuzzle[0:3,3:6] for x in range(1,10)])\n",
    "    checkUpperRight = all([x in sudokuPuzzle[0:3,6:9] for x in range(1,10)])\n",
    "\n",
    "    checkMidLeft = all([x in sudokuPuzzle[3:6,0:3] for x in range(1,10)])\n",
    "    checkMidMid = all([x in sudokuPuzzle[3:6,3:6] for x in range(1,10)])\n",
    "    checkMidRight = all([x in sudokuPuzzle[3:6,6:9] for x in range(1,10)])\n",
    "\n",
    "    checkLowerLeft = all([x in sudokuPuzzle[6:9,0:3] for x in range(1,10)])\n",
    "    checkLowerMid = all([x in sudokuPuzzle[6:9,3:6] for x in range(1,10)])\n",
    "    checkLowerRight = all([x in sudokuPuzzle[6:9,6:9] for x in range(1,10)])\n",
    "\n",
    "    solved = all([checkRow,checkColumn,checkUpperLeft,checkUpperMid,checkUpperRight,\n",
    "                  checkMidLeft,checkMidMid,checkMidRight,checkLowerLeft,checkLowerMid,checkLowerRight])\n",
    "    if solved:\n",
    "        for line in sudokuPuzzle:\n",
    "            print(*line)\n",
    "    return solved"
   ]
  },
  {
   "attachments": {},
   "cell_type": "markdown",
   "metadata": {},
   "source": [
    "## Using the brute force approach\n",
    "We can define a function that will scan through each cell and determines which values are already in the cell's row,column and subgrid.\\\n",
    "it then removes known values from a list of values from 1-9 \\\n",
    "if the cell is already filled there can only be a single value the given value"
   ]
  },
  {
   "cell_type": "code",
   "execution_count": 18,
   "metadata": {},
   "outputs": [],
   "source": [
    "def determineValues(sudokuPuzzle):\n",
    "    puzzleValue = list()\n",
    "    for c in range(9):\n",
    "        for r in range(9):\n",
    "            if sudokuPuzzle[r,c]==0:\n",
    "                cellValues = np.array(range(1,10))\n",
    "                cellValues= np.setdiff1d(cellValues,sudokuPuzzle[r,:]\n",
    "                                         [np.where(sudokuPuzzle[r,:]!=0)]).tolist()\n",
    "                cellValues =  np.setdiff1d(cellValues,sudokuPuzzle[:,c]\n",
    "                                         [np.where(sudokuPuzzle[:,c]!=0)]).tolist()\n",
    "                puzzleValue.append(cellValues)\n",
    "            else:\n",
    "                cellValues= [sudokuPuzzle[r,c]]\n",
    "                puzzleValue.append(cellValues)\n",
    "    return puzzleValue       "
   ]
  },
  {
   "cell_type": "code",
   "execution_count": 19,
   "metadata": {},
   "outputs": [
    {
     "data": {
      "text/plain": [
       "[[2, 5, 6],\n",
       " [6, 7],\n",
       " [1, 2, 5, 6],\n",
       " [3],\n",
       " [9],\n",
       " [1, 2, 6],\n",
       " [2, 5, 7],\n",
       " [8],\n",
       " [4],\n",
       " [5, 6, 9],\n",
       " [6, 8],\n",
       " [5, 6, 8, 9],\n",
       " [2],\n",
       " [6, 8],\n",
       " [4],\n",
       " [3],\n",
       " [7],\n",
       " [1],\n",
       " [8],\n",
       " [4],\n",
       " [3, 9],\n",
       " [7],\n",
       " [1],\n",
       " [5],\n",
       " [9],\n",
       " [2],\n",
       " [6],\n",
       " [3],\n",
       " [2],\n",
       " [5, 8, 9],\n",
       " [1],\n",
       " [4],\n",
       " [7],\n",
       " [5, 8, 9],\n",
       " [6],\n",
       " [5, 9],\n",
       " [1],\n",
       " [3, 8],\n",
       " [4],\n",
       " [6],\n",
       " [5],\n",
       " [2, 3, 9],\n",
       " [2, 8, 9],\n",
       " [3, 9],\n",
       " [7],\n",
       " [7],\n",
       " [5],\n",
       " [2, 3, 6, 8, 9],\n",
       " [8],\n",
       " [2, 3, 6, 8],\n",
       " [2, 3, 6, 9],\n",
       " [1],\n",
       " [4],\n",
       " [2, 3, 9],\n",
       " [2, 4, 5, 6],\n",
       " [1],\n",
       " [2, 3, 5, 6],\n",
       " [9],\n",
       " [2, 3, 6, 7],\n",
       " [8],\n",
       " [2, 4, 5, 7],\n",
       " [3, 5],\n",
       " [2, 3, 5],\n",
       " [2, 4, 5, 9],\n",
       " [3],\n",
       " [7],\n",
       " [5],\n",
       " [2, 3],\n",
       " [1, 2, 3, 9],\n",
       " [6],\n",
       " [1, 3, 5, 9],\n",
       " [8],\n",
       " [2, 5, 6],\n",
       " [9],\n",
       " [1, 2, 3, 5, 6, 8],\n",
       " [4],\n",
       " [2, 3, 6, 7, 8],\n",
       " [1, 2, 3, 6],\n",
       " [2, 5, 7, 8],\n",
       " [1, 3, 5],\n",
       " [2, 3, 5]]"
      ]
     },
     "execution_count": 19,
     "metadata": {},
     "output_type": "execute_result"
    }
   ],
   "source": [
    "puzzleValue = determineValues(sudokuDf.iloc[3,0])\n",
    "puzzleValue"
   ]
  },
  {
   "attachments": {},
   "cell_type": "markdown",
   "metadata": {},
   "source": [
    "Since we now know the possible values of each cell this we can then move on to to trying out different combinations <br> till we find the solution set but this computational mammoth of a task and requires bot alot of time and resources a better method will be to use backtracking"
   ]
  },
  {
   "attachments": {},
   "cell_type": "markdown",
   "metadata": {},
   "source": [
    "### implementing backtracking\n",
    "The bruteforce approach is is too costly therefore we use backtracking which is a variant of depth first search <br>\n",
    "In backtracking, only one successor is generated at a time rather\n",
    "than all successors; each partially expanded node remembers which successor to generate\n",
    "next.\n",
    "One cell is expounded and we pick a value from our list check validity conditions if true move to another cell if false pick the next number from the list\n",
    "this is reapeated until all values have have failed the validity check or all cells are fillled\n",
    "if a second cell c2 fails all test from the list of values then we move to the first cell c1 and pick a different value but firs wee need a function that efficiently checks the subgrid of the current cell"
   ]
  },
  {
   "cell_type": "code",
   "execution_count": 20,
   "metadata": {},
   "outputs": [],
   "source": [
    "def gridChecker(r,c,sudokuPuzzle,n):\n",
    "    if r < 3:\n",
    "        if c<3:\n",
    "            subgrid = n in sudokuPuzzle[0:3,0:3]\n",
    "        elif c < 6:\n",
    "            subgrid = n in sudokuPuzzle[0:3,3:6]\n",
    "        else:\n",
    "            subgrid = n in sudokuPuzzle[0:3,6:9]\n",
    "    elif r < 6:\n",
    "        if c<3:\n",
    "            subgrid = n in sudokuPuzzle[3:6,0:3]\n",
    "        elif c < 6:\n",
    "            subgrid = n in sudokuPuzzle[3:6,3:6]\n",
    "        else:\n",
    "            subgrid = n in sudokuPuzzle[3:6,6:9]\n",
    "    else:\n",
    "        if c<3:\n",
    "            subgrid = n in sudokuPuzzle[6:9,0:3]\n",
    "        elif c < 6:\n",
    "            subgrid = n in sudokuPuzzle[6:9,3:6]\n",
    "        else:\n",
    "            subgrid = n in sudokuPuzzle[6:9,6:9]\n",
    "    return subgrid"
   ]
  },
  {
   "attachments": {},
   "cell_type": "markdown",
   "metadata": {},
   "source": [
    "Implementing the code"
   ]
  },
  {
   "cell_type": "code",
   "execution_count": 21,
   "metadata": {},
   "outputs": [],
   "source": [
    "def solve(sudokuPuzzle,puzzleValue):\n",
    "    c =int(0)\n",
    "    solution = False\n",
    "    rows = np.array(np.where(sudokuPuzzle == 0))[0]\n",
    "    cols = np.array(np.where(sudokuPuzzle == 0))[1]\n",
    "    dic = dict(zip(list(range(len(rows))), np.zeros(len(rows),dtype = int).tolist()))\n",
    "    while solution == False:\n",
    "        if c >= len(rows):\n",
    "            solution = checkPuzzle(sudokuPuzzle)\n",
    "            break\n",
    "        r = rows[c]\n",
    "        c = cols[c]\n",
    "        len_num = len(np.array(puzzleValue).reshape(9,9)[r,c])\n",
    "        num = dic[c]\n",
    "        while num < len_num:\n",
    "            cell = np.array(puzzleValue).reshape(9,9)[r,c][num]\n",
    "            checkRow = cell in sudokuPuzzle[r,:]\n",
    "            if checkRow:\n",
    "                num += 1\n",
    "                continue\n",
    "            checkCol = cell in sudokuPuzzle[:,c]\n",
    "            if checkCol:\n",
    "                num += 1\n",
    "                continue\n",
    "            checkGrid = gridChecker(r,c,sudokuPuzzle,cell)\n",
    "            if checkGrid:\n",
    "                num += 1\n",
    "                continue\n",
    "            dic[c] = num\n",
    "            sudokuPuzzle[r,c] = cell\n",
    "            c += 1\n",
    "            break\n",
    "        else:\n",
    "            sudokuPuzzle[r,c] = 0 \n",
    "            dic[c] = 0\n",
    "            c -= 1\n",
    "\n"
   ]
  },
  {
   "attachments": {},
   "cell_type": "markdown",
   "metadata": {},
   "source": [
    "**The above function:** \n",
    "\n",
    "Checks the validity of each row, column, and subgrid:<br>\n",
    "If it fails, the next value in puzzle_value[r,c] is chosen<br>\n",
    "If it passes, the value is assigned to the cell and we move on to the next cell (and count increases by 1)<br>\n",
    "If none of the values for a given cell pass (i.e. else is executed): \n",
    "The cell value is reset to 0<br>\n",
    "The loop through the potential values is reset<br>\n",
    "We move back to the previous cell (and count decreases by one). <br>\n",
    "To run the code on the first puzzle, we run:"
   ]
  },
  {
   "cell_type": "code",
   "execution_count": 22,
   "metadata": {},
   "outputs": [
    {
     "name": "stderr",
     "output_type": "stream",
     "text": [
      "C:\\Users\\Jude Tulel\\AppData\\Local\\Temp\\ipykernel_5124\\2374377685.py:13: VisibleDeprecationWarning: Creating an ndarray from ragged nested sequences (which is a list-or-tuple of lists-or-tuples-or ndarrays with different lengths or shapes) is deprecated. If you meant to do this, you must specify 'dtype=object' when creating the ndarray.\n",
      "  len_num = len(np.array(puzzleValue).reshape(9,9)[r,c])\n",
      "C:\\Users\\Jude Tulel\\AppData\\Local\\Temp\\ipykernel_5124\\2374377685.py:16: VisibleDeprecationWarning: Creating an ndarray from ragged nested sequences (which is a list-or-tuple of lists-or-tuples-or ndarrays with different lengths or shapes) is deprecated. If you meant to do this, you must specify 'dtype=object' when creating the ndarray.\n",
      "  cell = np.array(puzzleValue).reshape(9,9)[r,c][num]\n"
     ]
    }
   ],
   "source": [
    "solve(sudokuDf.iloc[3,0],determineValues(sudokuDf.iloc[3,0]))"
   ]
  }
 ],
 "metadata": {
  "kernelspec": {
   "display_name": "Python 3",
   "language": "python",
   "name": "python3"
  },
  "language_info": {
   "codemirror_mode": {
    "name": "ipython",
    "version": 3
   },
   "file_extension": ".py",
   "mimetype": "text/x-python",
   "name": "python",
   "nbconvert_exporter": "python",
   "pygments_lexer": "ipython3",
   "version": "3.8.2"
  },
  "orig_nbformat": 4,
  "vscode": {
   "interpreter": {
    "hash": "570feb405e2e27c949193ac68f46852414290d515b0ba6e5d90d076ed2284471"
   }
  }
 },
 "nbformat": 4,
 "nbformat_minor": 2
}
