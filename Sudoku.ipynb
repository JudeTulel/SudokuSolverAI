{
 "cells": [
  {
   "attachments": {},
   "cell_type": "markdown",
   "metadata": {},
   "source": [
    "# Sudoku Solver\n",
    "## What is Sudoku?\n",
    " A sudoku puzzle consists of a 9x9 grid where each cell contains an integer 1-9.\n",
    " The 9x9 grid is divided into 9x9 subgrids\n",
    "The solution to the puzzle must satisfy the following conditions.\\\n",
    "    **>Each row contains digits 1-9 without repetition**\\\n",
    "    **>Each column contains digits 1-9 without repetition**\\\n",
    "    **>Each subgrid contains digits 1-9 without repetition**\\\n",
    "The puzzle is given with some of the cells empty.\n",
    "This python project aims to create an AI algorithm to solve sudoku."
   ]
  },
  {
   "attachments": {},
   "cell_type": "markdown",
   "metadata": {},
   "source": [
    "## Approaching the Problem\n",
    "The complexity of a Sudoku puzzle depends with the number ofempty cells in the grid\\\n",
    "If 41 of 81 cells are empty then there are 941 possible combininations that could be the solution.\n",
    "A bruteforce algorithm will be feasable.\n"
   ]
  },
  {
   "attachments": {},
   "cell_type": "markdown",
   "metadata": {},
   "source": [
    "## The Dataset\n",
    "The Dataset used in this project was downloaded from **Kaggle**\\\n",
    "\n",
    "Kaggle has a made publicly available a dataset of 9 million Sudoku puzzles and their solutions.\n",
    "\n"
   ]
  },
  {
   "attachments": {},
   "cell_type": "markdown",
   "metadata": {},
   "source": [
    "### importing the required libs and the dataset"
   ]
  },
  {
   "cell_type": "code",
   "execution_count": 34,
   "metadata": {},
   "outputs": [],
   "source": [
    "#importing the reqired libraries and The Dataset\n",
    "\n",
    "import numpy as np\n",
    "import pandas as pd\n",
    "import time\n",
    "import itertools\n",
    "\n",
    "#using pandas too import data set\n",
    "sudokuDf = pd.DataFrame(pd.read_csv('sudoku.csv',nrows=10**2))"
   ]
  },
  {
   "cell_type": "code",
   "execution_count": 2,
   "metadata": {},
   "outputs": [
    {
     "data": {
      "text/html": [
       "<div>\n",
       "<style scoped>\n",
       "    .dataframe tbody tr th:only-of-type {\n",
       "        vertical-align: middle;\n",
       "    }\n",
       "\n",
       "    .dataframe tbody tr th {\n",
       "        vertical-align: top;\n",
       "    }\n",
       "\n",
       "    .dataframe thead th {\n",
       "        text-align: right;\n",
       "    }\n",
       "</style>\n",
       "<table border=\"1\" class=\"dataframe\">\n",
       "  <thead>\n",
       "    <tr style=\"text-align: right;\">\n",
       "      <th></th>\n",
       "      <th>puzzle</th>\n",
       "      <th>solution</th>\n",
       "    </tr>\n",
       "  </thead>\n",
       "  <tbody>\n",
       "    <tr>\n",
       "      <th>18</th>\n",
       "      <td>0870020102040170030068007055080010006400081000...</td>\n",
       "      <td>9875324162546179833168497255782613496437981521...</td>\n",
       "    </tr>\n",
       "    <tr>\n",
       "      <th>14</th>\n",
       "      <td>0073000542450809000030400700709600000000207600...</td>\n",
       "      <td>8673192542457869319135426784729631853814257695...</td>\n",
       "    </tr>\n",
       "    <tr>\n",
       "      <th>0</th>\n",
       "      <td>0700000430400096108006349000940520003584600200...</td>\n",
       "      <td>6795182435437296188216349577943521863584617292...</td>\n",
       "    </tr>\n",
       "    <tr>\n",
       "      <th>70</th>\n",
       "      <td>0728340690450200080000750200140800008670400032...</td>\n",
       "      <td>1728345699451267386389754213147896528675421932...</td>\n",
       "    </tr>\n",
       "    <tr>\n",
       "      <th>84</th>\n",
       "      <td>0000507800006000100900206031004000000542600900...</td>\n",
       "      <td>2361597848756439124917286531684972353542618979...</td>\n",
       "    </tr>\n",
       "  </tbody>\n",
       "</table>\n",
       "</div>"
      ],
      "text/plain": [
       "                                               puzzle  \\\n",
       "18  0870020102040170030068007055080010006400081000...   \n",
       "14  0073000542450809000030400700709600000000207600...   \n",
       "0   0700000430400096108006349000940520003584600200...   \n",
       "70  0728340690450200080000750200140800008670400032...   \n",
       "84  0000507800006000100900206031004000000542600900...   \n",
       "\n",
       "                                             solution  \n",
       "18  9875324162546179833168497255782613496437981521...  \n",
       "14  8673192542457869319135426784729631853814257695...  \n",
       "0   6795182435437296188216349577943521863584617292...  \n",
       "70  1728345699451267386389754213147896528675421932...  \n",
       "84  2361597848756439124917286531684972353542618979...  "
      ]
     },
     "execution_count": 2,
     "metadata": {},
     "output_type": "execute_result"
    }
   ],
   "source": [
    "sudokuDf.sample(5)"
   ]
  },
  {
   "attachments": {},
   "cell_type": "markdown",
   "metadata": {},
   "source": [
    "#### Representing the Data in the standard sudoku 9x9 grid\n",
    "\n",
    "As we have seen from the sample the puzzle and solutions are represented by a string of 81 digits so we have to reshape them into a standard sudoku puzzle"
   ]
  },
  {
   "cell_type": "code",
   "execution_count": 35,
   "metadata": {},
   "outputs": [],
   "source": [
    "def shape(sudokuDf):\n",
    "    for n in range(sudokuDf.shape[0]):\n",
    "        #shaping the puzzle part\n",
    "        sudokuDf.iloc[n,0] = np.reshape(list(sudokuDf.puzzle.values[n]),(9,9)).astype(int)\n",
    "        #shaping the solution part\n",
    "        sudokuDf.iloc[n,1] = np.reshape(list(sudokuDf.solution.values[n]),(9,9)).astype(int)\n",
    "    return sudokuDf"
   ]
  },
  {
   "attachments": {},
   "cell_type": "markdown",
   "metadata": {},
   "source": [
    "**How the first Puzzle looks**"
   ]
  },
  {
   "cell_type": "code",
   "execution_count": 36,
   "metadata": {},
   "outputs": [
    {
     "data": {
      "text/plain": [
       "array([[0, 7, 0, 0, 0, 0, 0, 4, 3],\n",
       "       [0, 4, 0, 0, 0, 9, 6, 1, 0],\n",
       "       [8, 0, 0, 6, 3, 4, 9, 0, 0],\n",
       "       [0, 9, 4, 0, 5, 2, 0, 0, 0],\n",
       "       [3, 5, 8, 4, 6, 0, 0, 2, 0],\n",
       "       [0, 0, 0, 8, 0, 0, 5, 3, 0],\n",
       "       [0, 8, 0, 0, 7, 0, 0, 9, 1],\n",
       "       [9, 0, 2, 1, 0, 0, 0, 0, 5],\n",
       "       [0, 0, 7, 0, 4, 0, 8, 0, 2]])"
      ]
     },
     "execution_count": 36,
     "metadata": {},
     "output_type": "execute_result"
    }
   ],
   "source": [
    "sudokuDf = shape(sudokuDf)\n",
    "sudokuDf.iloc[0,0]"
   ]
  },
  {
   "attachments": {},
   "cell_type": "markdown",
   "metadata": {},
   "source": [
    "**This is its Solution**"
   ]
  },
  {
   "cell_type": "code",
   "execution_count": 37,
   "metadata": {},
   "outputs": [
    {
     "data": {
      "text/plain": [
       "array([[6, 7, 9, 5, 1, 8, 2, 4, 3],\n",
       "       [5, 4, 3, 7, 2, 9, 6, 1, 8],\n",
       "       [8, 2, 1, 6, 3, 4, 9, 5, 7],\n",
       "       [7, 9, 4, 3, 5, 2, 1, 8, 6],\n",
       "       [3, 5, 8, 4, 6, 1, 7, 2, 9],\n",
       "       [2, 1, 6, 8, 9, 7, 5, 3, 4],\n",
       "       [4, 8, 5, 2, 7, 6, 3, 9, 1],\n",
       "       [9, 6, 2, 1, 8, 3, 4, 7, 5],\n",
       "       [1, 3, 7, 9, 4, 5, 8, 6, 2]])"
      ]
     },
     "execution_count": 37,
     "metadata": {},
     "output_type": "execute_result"
    }
   ],
   "source": [
    "sudokuDf.iloc[0,1]"
   ]
  },
  {
   "attachments": {},
   "cell_type": "markdown",
   "metadata": {},
   "source": [
    "## Implementing checker for solution\n",
    "This will be a function to check if the solution set is in line with the aforementioned conditions for a solution."
   ]
  },
  {
   "cell_type": "code",
   "execution_count": null,
   "metadata": {},
   "outputs": [],
   "source": [
    "def checkPuzzle(sudokuPuzzle):\n",
    "    checkRow = all([all([x in sudokuPuzzle[nrow,:]for nrow in range(9) for x in range(1,10) ])])\n",
    "    checkColumn = all([all([x in sudokuPuzzle[ncol,:]for ncol in range(9) for x in range(1,10) ])])\n",
    "    checkUpperLeft = all([x in sudokuPuzzle[0:3,0:3] for x in range(1,10)])\n",
    "    checkUpperMid = all([x in sudokuPuzzle[0:3,3:6] for x in range(1,10)])\n",
    "    checkUpperRight = all([x in sudokuPuzzle[0:3,6:9] for x in range(1,10)])\n",
    "\n",
    "    checkMidLeft = all([x in sudokuPuzzle[3:6,0:3] for x in range(1,10)])\n",
    "    checkMidMid = all([x in sudokuPuzzle[3:6,3:6] for x in range(1,10)])\n",
    "    checkMidRight = all([x in sudokuPuzzle[3:6,6:9] for x in range(1,10)])\n",
    "\n",
    "    checkLowerLeft = all([x in sudokuPuzzle[6:9,0:3] for x in range(1,10)])\n",
    "    checkLowerMid = all([x in sudokuPuzzle[6:9,3:6] for x in range(1,10)])\n",
    "    checkLowerRight = all([x in sudokuPuzzle[6:9,6:9] for x in range(1,10)])\n",
    "\n",
    "    solved = all([checkRow,checkColumn,checkUpperLeft,checkUpperMid,checkUpperRight,\n",
    "                  checkMidLeft,checkMidMid,checkMidRight,checkLowerLeft,checkLowerMid,checkLowerRight])\n",
    "    if solved:\n",
    "        for line in sudokuPuzzle:\n",
    "            print(*line)\n",
    "    return solved"
   ]
  },
  {
   "attachments": {},
   "cell_type": "markdown",
   "metadata": {},
   "source": [
    "## Using the brute force approach\n",
    "We can define a function that will scan through each cell and determines which values are already in the cell's row,column and subgrid.\\\n",
    "it then removes known values from a list of values from 1-9 \\\n",
    "if the cell is already filled there can only be a single value the given value"
   ]
  },
  {
   "cell_type": "code",
   "execution_count": 52,
   "metadata": {},
   "outputs": [],
   "source": [
    "def determineValues(sudokuPuzzle):\n",
    "    puzzleValue = list()\n",
    "    for r in range(9):\n",
    "        for c in range(9):\n",
    "            if sudokuPuzzle[r,c]==0:\n",
    "                cellValues = np.array(range(1,10))\n",
    "                cellValues= np.setdiff1d(cellValues,sudokuPuzzle[r,:]\n",
    "                                         [np.where(sudokuPuzzle[r,:]!=0)]).tolist()\n",
    "                cellValues =  np.setdiff1d(cellValues,sudokuPuzzle[:,c]\n",
    "                                         [np.where(sudokuPuzzle[:,c]!=0)]).tolist()\n",
    "            else:\n",
    "                cellValues= [sudokuPuzzle[r,c]]\n",
    "                puzzleValue.append(cellValues)\n",
    "    return puzzleValue       "
   ]
  },
  {
   "cell_type": "code",
   "execution_count": 56,
   "metadata": {},
   "outputs": [
    {
     "data": {
      "text/plain": [
       "[[5],\n",
       " [6],\n",
       " [1],\n",
       " [4],\n",
       " [9],\n",
       " [2],\n",
       " [7],\n",
       " [3],\n",
       " [8],\n",
       " [3],\n",
       " [2],\n",
       " [4],\n",
       " [7],\n",
       " [8],\n",
       " [6],\n",
       " [1],\n",
       " [9],\n",
       " [5],\n",
       " [9],\n",
       " [8],\n",
       " [7],\n",
       " [3],\n",
       " [1],\n",
       " [5],\n",
       " [2],\n",
       " [4],\n",
       " [6],\n",
       " [6],\n",
       " [5],\n",
       " [9],\n",
       " [8],\n",
       " [3],\n",
       " [1],\n",
       " [4],\n",
       " [2],\n",
       " [7],\n",
       " [4],\n",
       " [1],\n",
       " [8],\n",
       " [2],\n",
       " [7],\n",
       " [9],\n",
       " [5],\n",
       " [6],\n",
       " [3],\n",
       " [2],\n",
       " [7],\n",
       " [3],\n",
       " [5],\n",
       " [6],\n",
       " [4],\n",
       " [8],\n",
       " [1],\n",
       " [9],\n",
       " [1],\n",
       " [3],\n",
       " [5],\n",
       " [9],\n",
       " [2],\n",
       " [8],\n",
       " [6],\n",
       " [7],\n",
       " [4],\n",
       " [7],\n",
       " [4],\n",
       " [6],\n",
       " [1],\n",
       " [5],\n",
       " [3],\n",
       " [9],\n",
       " [8],\n",
       " [2],\n",
       " [8],\n",
       " [9],\n",
       " [2],\n",
       " [6],\n",
       " [4],\n",
       " [7],\n",
       " [3],\n",
       " [5],\n",
       " [1]]"
      ]
     },
     "execution_count": 56,
     "metadata": {},
     "output_type": "execute_result"
    }
   ],
   "source": [
    "puzzleValue = determineValues(sudokuDf.iloc[5,1])\n",
    "puzzleValue"
   ]
  },
  {
   "attachments": {},
   "cell_type": "markdown",
   "metadata": {},
   "source": [
    "Since we now know the possible values of each cell this we can then move on to to trying out different combinations <br> till we find the solution set but this computational mammoth of a task and requires bot alot of time and resources a better method will be to use backtracking"
   ]
  }
 ],
 "metadata": {
  "kernelspec": {
   "display_name": "Python 3",
   "language": "python",
   "name": "python3"
  },
  "language_info": {
   "codemirror_mode": {
    "name": "ipython",
    "version": 3
   },
   "file_extension": ".py",
   "mimetype": "text/x-python",
   "name": "python",
   "nbconvert_exporter": "python",
   "pygments_lexer": "ipython3",
   "version": "3.8.2"
  },
  "orig_nbformat": 4,
  "vscode": {
   "interpreter": {
    "hash": "570feb405e2e27c949193ac68f46852414290d515b0ba6e5d90d076ed2284471"
   }
  }
 },
 "nbformat": 4,
 "nbformat_minor": 2
}
